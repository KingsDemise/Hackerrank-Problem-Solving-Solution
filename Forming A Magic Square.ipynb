{
 "cells": [
  {
   "cell_type": "code",
   "execution_count": null,
   "metadata": {},
   "outputs": [],
   "source": [
    "import math\n",
    "import os\n",
    "import random\n",
    "import re\n",
    "import sys\n",
    "\n",
    "\n",
    "def formingMagicSquare(s):\n",
    "    magic_squares=[[[8, 1, 6],[3, 5, 7],[4, 9, 2]],\n",
    "                     [[6, 1, 8],[7, 5, 3],[2, 9, 4]],\n",
    "                     [[4, 9, 2],[3, 5, 7],[8, 1, 6]],\n",
    "                     [[2, 9, 4],[7, 5, 3],[6, 1, 8]],\n",
    "                     [[8, 3, 4],[1, 5, 9],[6, 7, 2]],\n",
    "                     [[4, 3, 8],[9, 5, 1],[2, 7, 6]],\n",
    "                     [[6, 7, 2],[1, 5, 9],[8, 3, 4]],\n",
    "                     [[2, 7, 6],[9, 5, 1],[4, 3, 8]]]\n",
    "    m_c=sys.maxsize\n",
    "    for m_s in magic_squares:\n",
    "        t_c=0\n",
    "        for i in range(3):\n",
    "            for j in range(3):\n",
    "                t_c+=abs(magic_square[i][j]-s[i][j])\n",
    "        m_c=min(m_c,t_c)\n",
    "    print(m_c)\n",
    "\n",
    "s = []\n",
    "\n",
    "for _ in range(3):\n",
    "    s.append(list(map(int, input().rstrip().split())))\n",
    "result = formingMagicSquare(s)\n"
   ]
  },
  {
   "cell_type": "code",
   "execution_count": null,
   "metadata": {},
   "outputs": [],
   "source": []
  }
 ],
 "metadata": {
  "kernelspec": {
   "display_name": "Python 3",
   "language": "python",
   "name": "python3"
  },
  "language_info": {
   "codemirror_mode": {
    "name": "ipython",
    "version": 3
   },
   "file_extension": ".py",
   "mimetype": "text/x-python",
   "name": "python",
   "nbconvert_exporter": "python",
   "pygments_lexer": "ipython3",
   "version": "3.8.3"
  }
 },
 "nbformat": 4,
 "nbformat_minor": 4
}
