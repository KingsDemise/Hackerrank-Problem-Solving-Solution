{
 "cells": [
  {
   "cell_type": "code",
   "execution_count": 5,
   "metadata": {},
   "outputs": [
    {
     "name": "stdin",
     "output_type": "stream",
     "text": [
      " 1 3\n",
      " 2\n",
      " 20 30 12\n"
     ]
    },
    {
     "name": "stdout",
     "output_type": "stream",
     "text": [
      "4\n"
     ]
    }
   ],
   "source": [
    "from math import gcd\n",
    "def getTotalX(a, b):\n",
    "    m=1\n",
    "    count=0\n",
    "    lcm=a[0]\n",
    "    for i in a[1:]:\n",
    "        lcm=lcm*i//gcd(lcm,i)\n",
    "    k=b[0]\n",
    "    for j in b[1:]:\n",
    "        k=gcd(k,j)\n",
    "    lcm2=lcm\n",
    "    while(lcm<=k):\n",
    "        if(k%lcm)==0:\n",
    "            count+=1\n",
    "        lcm=lcm+lcm2\n",
    "    print(count)\n",
    "\n",
    "first_multiple_input = input().rstrip().split()\n",
    "\n",
    "n = int(first_multiple_input[0])\n",
    "\n",
    "m = int(first_multiple_input[1])\n",
    "\n",
    "arr = list(map(int, input().rstrip().split()))\n",
    "\n",
    "brr = list(map(int, input().rstrip().split()))\n",
    "\n",
    "total = getTotalX(arr, brr)\n"
   ]
  },
  {
   "cell_type": "code",
   "execution_count": null,
   "metadata": {},
   "outputs": [],
   "source": [
    "1 "
   ]
  }
 ],
 "metadata": {
  "kernelspec": {
   "display_name": "Python 3",
   "language": "python",
   "name": "python3"
  },
  "language_info": {
   "codemirror_mode": {
    "name": "ipython",
    "version": 3
   },
   "file_extension": ".py",
   "mimetype": "text/x-python",
   "name": "python",
   "nbconvert_exporter": "python",
   "pygments_lexer": "ipython3",
   "version": "3.8.3"
  }
 },
 "nbformat": 4,
 "nbformat_minor": 4
}
