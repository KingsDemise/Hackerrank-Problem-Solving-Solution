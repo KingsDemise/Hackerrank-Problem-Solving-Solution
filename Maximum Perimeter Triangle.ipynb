{
 "cells": [
  {
   "cell_type": "code",
   "execution_count": 6,
   "metadata": {},
   "outputs": [
    {
     "name": "stdin",
     "output_type": "stream",
     "text": [
      " 5\n",
      " 10 15 7 2 1\n"
     ]
    },
    {
     "name": "stdout",
     "output_type": "stream",
     "text": [
      "7 10 15\n"
     ]
    }
   ],
   "source": [
    "def maximumPerimeterTriangle(sticks):\n",
    "    a=sorted(sticks)\n",
    "    l=len(a)\n",
    "    i=l-3\n",
    "    while i>=0 and (a[i]+a[i+1]<=a[i+2]) :\n",
    "        i-=1\n",
    "    if i>=0:\n",
    "        print(a[i],a[i+1],a[i+2])\n",
    "    else:\n",
    "        print(-1)    \n",
    "\n",
    "n = int(input())\n",
    "\n",
    "sticks = list(map(int, input().rstrip().split()))\n",
    "\n",
    "result = maximumPerimeterTriangle(sticks)\n"
   ]
  },
  {
   "cell_type": "code",
   "execution_count": null,
   "metadata": {},
   "outputs": [],
   "source": []
  }
 ],
 "metadata": {
  "kernelspec": {
   "display_name": "Python 3",
   "language": "python",
   "name": "python3"
  },
  "language_info": {
   "codemirror_mode": {
    "name": "ipython",
    "version": 3
   },
   "file_extension": ".py",
   "mimetype": "text/x-python",
   "name": "python",
   "nbconvert_exporter": "python",
   "pygments_lexer": "ipython3",
   "version": "3.8.3"
  }
 },
 "nbformat": 4,
 "nbformat_minor": 4
}
