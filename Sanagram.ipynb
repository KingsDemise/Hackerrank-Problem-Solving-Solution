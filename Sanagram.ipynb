{
 "cells": [
  {
   "cell_type": "code",
   "execution_count": null,
   "metadata": {},
   "outputs": [],
   "source": [
    "import math\n",
    "import os\n",
    "import random\n",
    "import re\n",
    "import sys\n",
    "def sherlockAndAnagrams(s):\n",
    "    dict={}\n",
    "    l=len(s)\n",
    "    for i in range(l):\n",
    "        for j in range(i+1,l+1):\n",
    "            s1=list(s[i:j])\n",
    "            s1.sort()\n",
    "            s1=\"\".join(s1)\n",
    "            dict[s1]=dict.get(s1,0)+1\n",
    "        sum=0\n",
    "        for i in dict:\n",
    "            n=dict[i]\n",
    "            sum+=(n*(n-1))//2\n",
    "    return sum\n",
    " \n",
    "\n",
    "q = int(input())\n",
    "\n",
    "for q_itr in range(q):\n",
    "    s = input()\n",
    "    result = sherlockAndAnagrams(s)\n",
    "    print(result)\n"
   ]
  },
  {
   "cell_type": "code",
   "execution_count": null,
   "metadata": {},
   "outputs": [],
   "source": []
  }
 ],
 "metadata": {
  "kernelspec": {
   "display_name": "Python 3",
   "language": "python",
   "name": "python3"
  },
  "language_info": {
   "codemirror_mode": {
    "name": "ipython",
    "version": 3
   },
   "file_extension": ".py",
   "mimetype": "text/x-python",
   "name": "python",
   "nbconvert_exporter": "python",
   "pygments_lexer": "ipython3",
   "version": "3.8.3"
  }
 },
 "nbformat": 4,
 "nbformat_minor": 4
}
