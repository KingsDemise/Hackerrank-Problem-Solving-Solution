{
 "cells": [
  {
   "cell_type": "code",
   "execution_count": 2,
   "metadata": {},
   "outputs": [
    {
     "name": "stdin",
     "output_type": "stream",
     "text": [
      " 5 3\n",
      " 4 3\n",
      " 5 5\n",
      " 4 2\n",
      " 2 3\n"
     ]
    },
    {
     "name": "stdout",
     "output_type": "stream",
     "text": [
      "10\n"
     ]
    }
   ],
   "source": [
    "def queensAttack(n,k,r_q,c_q,obstacles):\n",
    "    s=set([(x,y) for y,x in obstacles])\n",
    "    m=[[1,0],[-1,0],[0,1],[0,-1],[1,1],[-1,-1],[1,-1],[-1,1]]\n",
    "    moves=0\n",
    "    for i in m:\n",
    "        y=r_q\n",
    "        x=c_q\n",
    "        while True:\n",
    "            y+=i[1]\n",
    "            x+=i[0]\n",
    "            if x==0 or y==0 or x==n+1 or y==n+1:\n",
    "                break\n",
    "            if (x,y) in s:\n",
    "                break\n",
    "            moves+=1\n",
    "    print(moves)\n",
    "    \n",
    "nk=input().split()\n",
    "\n",
    "n=int(nk[0])\n",
    "\n",
    "k=int(nk[1])\n",
    "\n",
    "r_qC_q=input().split()\n",
    "\n",
    "r_q=int(r_qC_q[0])\n",
    "c_q=int(r_qC_q[1])\n",
    "obstacles=[]\n",
    "for _ in range(k):\n",
    "    obstacles.append(list(map(int,input().rstrip().split())))\n",
    "\n",
    "result = queensAttack(n,k,r_q,c_q,obstacles)\n"
   ]
  },
  {
   "cell_type": "code",
   "execution_count": null,
   "metadata": {},
   "outputs": [],
   "source": []
  }
 ],
 "metadata": {
  "kernelspec": {
   "display_name": "Python 3",
   "language": "python",
   "name": "python3"
  },
  "language_info": {
   "codemirror_mode": {
    "name": "ipython",
    "version": 3
   },
   "file_extension": ".py",
   "mimetype": "text/x-python",
   "name": "python",
   "nbconvert_exporter": "python",
   "pygments_lexer": "ipython3",
   "version": "3.8.3"
  }
 },
 "nbformat": 4,
 "nbformat_minor": 4
}
