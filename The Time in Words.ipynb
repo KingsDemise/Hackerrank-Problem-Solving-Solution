{
 "cells": [
  {
   "cell_type": "code",
   "execution_count": 9,
   "metadata": {},
   "outputs": [
    {
     "name": "stdin",
     "output_type": "stream",
     "text": [
      " 12\n",
      " 59\n"
     ]
    },
    {
     "name": "stdout",
     "output_type": "stream",
     "text": [
      "one minute to one\n",
      "one minutes to one\n"
     ]
    }
   ],
   "source": [
    "def timeInWords(h, m):\n",
    "    sd=[\"\", \"one\", \"two\", \"three\", \"four\", \"five\", \"six\", \"seven\", \"eight\", \"nine\",'ten','eleven','twelve']\n",
    "    td=[\"ten\", \"eleven\", \"twelve\",\"thirteen\", \"fourteen\", \"fifteen\", \"sixteen\",\"seventeen\", \"eighteen\",\"nineteen\"]\n",
    "    tens=[\"\",'',\"twenty\",\"thirty\",\"forty\",\"fifty\"]\n",
    "    if m==0:\n",
    "        print(f\"{sd[h]} o' clock\")\n",
    "    if m==30:\n",
    "        print(f\"half past {sd[h]}\")\n",
    "    if m==15:\n",
    "        print(f\"quarter past {sd[h]}\")\n",
    "    if m==45:\n",
    "        if h==12:\n",
    "            print(\"quarter to one\")\n",
    "        else:\n",
    "            print(f\"quarter to {sd[h+1]}\")\n",
    "    if m<30 and m!=0 and m!=15:\n",
    "        if m<20:\n",
    "            if m==1:\n",
    "                print(f\"one minute past {sd[h]}\")\n",
    "            else:\n",
    "                m1=m%10\n",
    "                if m<10:\n",
    "                    print(f'{sd[m1]} minutes past {sd[h]}')\n",
    "                else:\n",
    "                    print(f'{td[m1]} minutes past {sd[h]}')\n",
    "        elif m%10==0:\n",
    "            m2=m/10\n",
    "            print(f\"{tens[m2]} past {sd[h]}\")\n",
    "        else:\n",
    "            m1=m//10\n",
    "            m2=m%10\n",
    "            print(f\"{tens[m1]} {sd[m2]} minutes past {sd[h]}\")\n",
    "    if m>30 and m!=0 and m!=45:\n",
    "        if h==12:\n",
    "            if m>40:\n",
    "                if m==59:\n",
    "                    print(f\"one minute to one\")\n",
    "                else:\n",
    "                    m1=(60-m)%10\n",
    "                    if m>50:\n",
    "                        print(f'{sd[m1]} minutes to one')\n",
    "                    else:\n",
    "                        print(f'{td[m1]} minutes to one')\n",
    "            elif m%10==0:\n",
    "                    m2=(60-m)/10\n",
    "                    print(f\"{tens[m2]} to one\")\n",
    "            else:\n",
    "                m1=(60-m)//10\n",
    "                m2=(60-m)%10\n",
    "                print(f\"{tens[m1]} {sd[m2]} minutes to one\")\n",
    "        else:\n",
    "            if m>40:\n",
    "                if m==59:\n",
    "                    print(f\"one minute to {sd[h+1]}\")\n",
    "                m1=(60-m)%10\n",
    "                if m>50:\n",
    "                    print(f'{sd[m1]} minutes to {sd[h+1]}')\n",
    "                else:\n",
    "                    print(f'{td[m1]} minutes to {sd[h+1]}')\n",
    "            elif m%10==0:\n",
    "                    m2=(60-m)/10\n",
    "                    print(f\"{tens[m2]} to {sd[h+1]}\")\n",
    "            else:\n",
    "                m1=(60-m)//10\n",
    "                m2=(60-m)%10\n",
    "                print(f\"{tens[m1]} {sd[m2]} minutes to {sd[h+1]}\")\n",
    "            \n",
    "        \n",
    "        \n",
    "\n",
    "\n",
    "h = int(input())\n",
    "\n",
    "m = int(input())\n",
    "\n",
    "result = timeInWords(h, m)\n",
    "\n"
   ]
  },
  {
   "cell_type": "code",
   "execution_count": null,
   "metadata": {},
   "outputs": [],
   "source": []
  }
 ],
 "metadata": {
  "kernelspec": {
   "display_name": "Python 3",
   "language": "python",
   "name": "python3"
  },
  "language_info": {
   "codemirror_mode": {
    "name": "ipython",
    "version": 3
   },
   "file_extension": ".py",
   "mimetype": "text/x-python",
   "name": "python",
   "nbconvert_exporter": "python",
   "pygments_lexer": "ipython3",
   "version": "3.8.3"
  }
 },
 "nbformat": 4,
 "nbformat_minor": 4
}
