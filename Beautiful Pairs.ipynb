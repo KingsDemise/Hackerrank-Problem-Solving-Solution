{
 "cells": [
  {
   "cell_type": "code",
   "execution_count": 4,
   "metadata": {},
   "outputs": [
    {
     "name": "stdin",
     "output_type": "stream",
     "text": [
      " 6\n",
      " 3 5 7 11 5 8\n",
      " 5 7 11 10 5 8\n"
     ]
    },
    {
     "name": "stdout",
     "output_type": "stream",
     "text": [
      "6\n"
     ]
    }
   ],
   "source": [
    "from collections import Counter\n",
    "def beautifulPairs(A, B):\n",
    "    a=Counter(A)\n",
    "    b=Counter(B)\n",
    "    k=0\n",
    "    for i in a:\n",
    "        if i in b:\n",
    "            k+=min(a[i],b[i])\n",
    "    if k==len(A):\n",
    "        return k-1\n",
    "    else:\n",
    "        return k+1\n",
    "    \n",
    "n = int(input())\n",
    "\n",
    "A = list(map(int, input().rstrip().split()))\n",
    "\n",
    "B = list(map(int, input().rstrip().split()))\n",
    "\n",
    "result = beautifulPairs(A, B)\n",
    "print(result)\n"
   ]
  },
  {
   "cell_type": "code",
   "execution_count": null,
   "metadata": {},
   "outputs": [],
   "source": []
  }
 ],
 "metadata": {
  "kernelspec": {
   "display_name": "Python 3",
   "language": "python",
   "name": "python3"
  },
  "language_info": {
   "codemirror_mode": {
    "name": "ipython",
    "version": 3
   },
   "file_extension": ".py",
   "mimetype": "text/x-python",
   "name": "python",
   "nbconvert_exporter": "python",
   "pygments_lexer": "ipython3",
   "version": "3.8.3"
  }
 },
 "nbformat": 4,
 "nbformat_minor": 4
}
