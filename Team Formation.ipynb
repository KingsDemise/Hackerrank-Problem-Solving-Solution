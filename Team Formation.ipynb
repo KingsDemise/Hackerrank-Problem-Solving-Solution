{
 "cells": [
  {
   "cell_type": "code",
   "execution_count": 6,
   "metadata": {},
   "outputs": [
    {
     "name": "stdin",
     "output_type": "stream",
     "text": [
      " 1\n",
      " 100\n"
     ]
    },
    {
     "name": "stdout",
     "output_type": "stream",
     "text": [
      "1 9 45 55 99 "
     ]
    }
   ],
   "source": [
    "from collections import Counter\n",
    "\n",
    "def smallest_set(a,b,k):\n",
    "    l={}\n",
    "    l[a-1]=[]\n",
    "    for i in range(a,b+1):\n",
    "        l[i]=[]\n",
    "        len2=len(l[i-1])\n",
    "        n=k[i]-len2\n",
    "        if n>0:\n",
    "            l[i]=[1]*n\n",
    "        if len2>0:\n",
    "            f=min(len2, n+len2)\n",
    "            l[i-1].sort()\n",
    "            l[i]+=[x+1 for x in l[i-1][:f]]\n",
    "            l[i-1]=l[i-1][f:]\n",
    "    r=l[b][0]\n",
    "    for i in range(a,b+1):\n",
    "        if len(l[i])>0:\n",
    "            r=min(r,min(l[i]))\n",
    "            if r==1:\n",
    "                return 1\n",
    "            \n",
    "    return r\n",
    "\n",
    "def find_lowest_range(l, n):\n",
    "    c=Counter(l)\n",
    "    i=0\n",
    "    m=n\n",
    "    while i<len(l):\n",
    "        b=i\n",
    "        while b<n and (l[i]==l[b] or (l[b]-l[b-1])<=1):\n",
    "            b+=1\n",
    "        b-=1\n",
    "        if b==i:\n",
    "            return 1\n",
    "        m=min(m,smallest_set(l[i],l[b],c))\n",
    "        if m==1:\n",
    "            return 1\n",
    "        i = end + 1\n",
    "    return mini\n",
    "\n",
    "t = int(input())\n",
    "for _ in range(t):\n",
    "    l = list(map(int, input().split()))\n",
    "    if l[0] == 0:\n",
    "        print(0)\n",
    "        continue\n",
    "    n = l[0]    \n",
    "    l = sorted(l[1:])\n",
    "    print(find_lowest_range(l, n))"
   ]
  },
  {
   "cell_type": "code",
   "execution_count": null,
   "metadata": {},
   "outputs": [],
   "source": []
  }
 ],
 "metadata": {
  "kernelspec": {
   "display_name": "Python 3",
   "language": "python",
   "name": "python3"
  },
  "language_info": {
   "codemirror_mode": {
    "name": "ipython",
    "version": 3
   },
   "file_extension": ".py",
   "mimetype": "text/x-python",
   "name": "python",
   "nbconvert_exporter": "python",
   "pygments_lexer": "ipython3",
   "version": "3.8.3"
  }
 },
 "nbformat": 4,
 "nbformat_minor": 4
}
