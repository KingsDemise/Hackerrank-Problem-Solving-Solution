{
 "cells": [
  {
   "cell_type": "code",
   "execution_count": 7,
   "metadata": {},
   "outputs": [
    {
     "name": "stdin",
     "output_type": "stream",
     "text": [
      " 10\n",
      " 3 4 21 36 10 28 35 5 24 42\n"
     ]
    },
    {
     "name": "stdout",
     "output_type": "stream",
     "text": [
      "3 -1\n"
     ]
    }
   ],
   "source": [
    "def breakingRecords(scores):\n",
    "    min=max=scores[0]\n",
    "    min_count=max_count=0\n",
    "    for i in scores:\n",
    "        if i>max:\n",
    "            max_count+=1\n",
    "            max=i\n",
    "    for i in scores:\n",
    "        if i<min:\n",
    "            min_count+=1\n",
    "            min=i            \n",
    "    print(f\"{max_count} {min_count}\")\n",
    "            \n",
    "n = int(input())\n",
    "\n",
    "scores = list(map(int, input().rstrip().split()))\n",
    "\n",
    "result = breakingRecords(scores)\n"
   ]
  },
  {
   "cell_type": "code",
   "execution_count": null,
   "metadata": {},
   "outputs": [],
   "source": []
  }
 ],
 "metadata": {
  "kernelspec": {
   "display_name": "Python 3",
   "language": "python",
   "name": "python3"
  },
  "language_info": {
   "codemirror_mode": {
    "name": "ipython",
    "version": 3
   },
   "file_extension": ".py",
   "mimetype": "text/x-python",
   "name": "python",
   "nbconvert_exporter": "python",
   "pygments_lexer": "ipython3",
   "version": "3.8.3"
  }
 },
 "nbformat": 4,
 "nbformat_minor": 4
}
