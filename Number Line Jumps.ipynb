{
 "cells": [
  {
   "cell_type": "code",
   "execution_count": null,
   "metadata": {},
   "outputs": [],
   "source": [
    "def kangaroo(x1, v1, x2, v2):\n",
    "    if x1==x2 and v1!=v2:\n",
    "        return 'NO'\n",
    "    if x1>x2 and v1>=v2:\n",
    "        return 'NO'\n",
    "    if x2>x1 and v2>=v1:\n",
    "        return 'NO'\n",
    "    if abs((x1-x2)%(v1-v2))==0:\n",
    "        return 'YES'\n",
    "    else:\n",
    "        return \"NO\"\n",
    "    \n",
    "\n",
    "x1V1X2V2 = input().split()\n",
    "x1 = int(x1V1X2V2[0])\n",
    "v1 = int(x1V1X2V2[1])\n",
    "x2 = int(x1V1X2V2[2])\n",
    "v2 = int(x1V1X2V2[3])\n",
    "result = kangaroo(x1, v1, x2, v2)\n",
    "print(result)"
   ]
  }
 ],
 "metadata": {
  "kernelspec": {
   "display_name": "Python 3",
   "language": "python",
   "name": "python3"
  },
  "language_info": {
   "codemirror_mode": {
    "name": "ipython",
    "version": 3
   },
   "file_extension": ".py",
   "mimetype": "text/x-python",
   "name": "python",
   "nbconvert_exporter": "python",
   "pygments_lexer": "ipython3",
   "version": "3.8.3"
  }
 },
 "nbformat": 4,
 "nbformat_minor": 4
}
