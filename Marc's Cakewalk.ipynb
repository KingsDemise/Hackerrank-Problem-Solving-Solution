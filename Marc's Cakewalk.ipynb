{
 "cells": [
  {
   "cell_type": "code",
   "execution_count": 2,
   "metadata": {},
   "outputs": [
    {
     "name": "stdin",
     "output_type": "stream",
     "text": [
      " 3\n",
      " 1 3 2\n"
     ]
    },
    {
     "name": "stdout",
     "output_type": "stream",
     "text": [
      "11\n"
     ]
    }
   ],
   "source": [
    "def marcsCakewalk(calorie):\n",
    "    k=sorted(calorie,reverse=True)\n",
    "    l=len(calorie)\n",
    "    sum=0\n",
    "    for i in range(l):\n",
    "        sum=sum+(k[i]*(2**i))\n",
    "    print(sum)\n",
    "\n",
    "n = int(input())\n",
    "\n",
    "calorie = list(map(int, input().rstrip().split()))\n",
    "\n",
    "result = marcsCakewalk(calorie)\n"
   ]
  },
  {
   "cell_type": "code",
   "execution_count": null,
   "metadata": {},
   "outputs": [],
   "source": []
  }
 ],
 "metadata": {
  "kernelspec": {
   "display_name": "Python 3",
   "language": "python",
   "name": "python3"
  },
  "language_info": {
   "codemirror_mode": {
    "name": "ipython",
    "version": 3
   },
   "file_extension": ".py",
   "mimetype": "text/x-python",
   "name": "python",
   "nbconvert_exporter": "python",
   "pygments_lexer": "ipython3",
   "version": "3.8.3"
  }
 },
 "nbformat": 4,
 "nbformat_minor": 4
}
