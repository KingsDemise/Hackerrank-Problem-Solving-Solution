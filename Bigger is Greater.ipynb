{
 "cells": [
  {
   "cell_type": "code",
   "execution_count": 2,
   "metadata": {},
   "outputs": [
    {
     "name": "stdin",
     "output_type": "stream",
     "text": [
      " 5\n",
      " ab\n"
     ]
    },
    {
     "name": "stdout",
     "output_type": "stream",
     "text": [
      "ba\n"
     ]
    },
    {
     "name": "stdin",
     "output_type": "stream",
     "text": [
      " bb\n"
     ]
    },
    {
     "name": "stdout",
     "output_type": "stream",
     "text": [
      "no answer\n"
     ]
    },
    {
     "name": "stdin",
     "output_type": "stream",
     "text": [
      " hefg\n"
     ]
    },
    {
     "name": "stdout",
     "output_type": "stream",
     "text": [
      "hegf\n"
     ]
    },
    {
     "name": "stdin",
     "output_type": "stream",
     "text": [
      " dhck\n"
     ]
    },
    {
     "name": "stdout",
     "output_type": "stream",
     "text": [
      "dhkc\n"
     ]
    },
    {
     "name": "stdin",
     "output_type": "stream",
     "text": [
      " dkhc\n"
     ]
    },
    {
     "name": "stdout",
     "output_type": "stream",
     "text": [
      "no answer\n",
      "no answer\n",
      "hcdk\n"
     ]
    }
   ],
   "source": [
    "def biggerIsGreater(w):\n",
    "    n = len(w)+1\n",
    "    for i in range(-2,-n,-1):\n",
    "        if w[i]<w[i+1]:\n",
    "            print(w[:i],end='')\n",
    "            x = w[:i:-1]\n",
    "            for j in range(-i-1):\n",
    "                if w[i]<x[j]:\n",
    "                    print(x[j]+x[:j]+w[i]+x[j+1:])\n",
    "                    break\n",
    "            else:\n",
    "                print(x+w[i])\n",
    "            break\n",
    "    else:\n",
    "        print('no answer')\n",
    "\n",
    "T = int(input())\n",
    "\n",
    "for T_itr in range(T):\n",
    "    w = input()\n",
    "    result = biggerIsGreater(w)\n"
   ]
  },
  {
   "cell_type": "code",
   "execution_count": null,
   "metadata": {},
   "outputs": [],
   "source": []
  },
  {
   "cell_type": "code",
   "execution_count": null,
   "metadata": {},
   "outputs": [],
   "source": []
  }
 ],
 "metadata": {
  "kernelspec": {
   "display_name": "Python 3",
   "language": "python",
   "name": "python3"
  },
  "language_info": {
   "codemirror_mode": {
    "name": "ipython",
    "version": 3
   },
   "file_extension": ".py",
   "mimetype": "text/x-python",
   "name": "python",
   "nbconvert_exporter": "python",
   "pygments_lexer": "ipython3",
   "version": "3.8.3"
  }
 },
 "nbformat": 4,
 "nbformat_minor": 4
}
