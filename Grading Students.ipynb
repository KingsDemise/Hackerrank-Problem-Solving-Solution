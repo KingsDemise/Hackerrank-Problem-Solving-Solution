{
 "cells": [
  {
   "cell_type": "code",
   "execution_count": 12,
   "metadata": {},
   "outputs": [
    {
     "name": "stdin",
     "output_type": "stream",
     "text": [
      " 4\n",
      " 75\n",
      " 67\n",
      " 38\n",
      " 33\n"
     ]
    },
    {
     "name": "stdout",
     "output_type": "stream",
     "text": [
      "75\n",
      "67\n",
      "40\n",
      "33\n",
      "\n"
     ]
    }
   ],
   "source": [
    "### !/bin/python3\n",
    "\n",
    "import math\n",
    "import os\n",
    "import random\n",
    "import re\n",
    "import sys\n",
    "\n",
    "def gradingStudents(grades):\n",
    "    new=''\n",
    "    for i in grades:\n",
    "        z=i%5\n",
    "        if i>37 and z>2:\n",
    "            i=i+(5-z)    \n",
    "        new+=str(i)+'\\n'\n",
    "    return(new)    \n",
    "            \n",
    "\n",
    "grades_count = int(input().strip())\n",
    "\n",
    "grades = []\n",
    "\n",
    "for _ in range(grades_count):\n",
    "    grades_item = int(input().strip())\n",
    "    grades.append(grades_item)\n",
    "result = gradingStudents(grades)\n",
    "print(result)\n"
   ]
  },
  {
   "cell_type": "code",
   "execution_count": null,
   "metadata": {},
   "outputs": [],
   "source": []
  }
 ],
 "metadata": {
  "kernelspec": {
   "display_name": "Python 3",
   "language": "python",
   "name": "python3"
  },
  "language_info": {
   "codemirror_mode": {
    "name": "ipython",
    "version": 3
   },
   "file_extension": ".py",
   "mimetype": "text/x-python",
   "name": "python",
   "nbconvert_exporter": "python",
   "pygments_lexer": "ipython3",
   "version": "3.8.3"
  }
 },
 "nbformat": 4,
 "nbformat_minor": 4
}
