{
 "cells": [
  {
   "cell_type": "code",
   "execution_count": 11,
   "metadata": {},
   "outputs": [
    {
     "name": "stdout",
     "output_type": "stream",
     "text": [
      "97\n",
      "yes\n"
     ]
    }
   ],
   "source": [
    "def closestNumbers(arr):\n",
    "    arr.sort()\n",
    "    k=[]\n",
    "    m=float('inf')\n",
    "    for i in range(len(arr)-1):\n",
    "        m=min(arr[i+1]-arr[i],m)    \n",
    "    for i in range(len(arr)-1): \n",
    "        if arr[i+1]-arr[i]==m:\n",
    "            k.append(arr[i])\n",
    "            k.append(arr[i+1])\n",
    "    print(*k)\n",
    "n = int(input())\n",
    "arr = list(map(int, input().rstrip().split()))\n",
    "result = closestNumbers(arr)\n"
   ]
  },
  {
   "cell_type": "code",
   "execution_count": null,
   "metadata": {},
   "outputs": [],
   "source": []
  }
 ],
 "metadata": {
  "kernelspec": {
   "display_name": "Python 3",
   "language": "python",
   "name": "python3"
  },
  "language_info": {
   "codemirror_mode": {
    "name": "ipython",
    "version": 3
   },
   "file_extension": ".py",
   "mimetype": "text/x-python",
   "name": "python",
   "nbconvert_exporter": "python",
   "pygments_lexer": "ipython3",
   "version": "3.8.3"
  }
 },
 "nbformat": 4,
 "nbformat_minor": 4
}
