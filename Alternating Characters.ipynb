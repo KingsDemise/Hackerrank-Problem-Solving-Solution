{
 "cells": [
  {
   "cell_type": "code",
   "execution_count": 4,
   "metadata": {},
   "outputs": [
    {
     "name": "stdin",
     "output_type": "stream",
     "text": [
      " 3\n",
      " bal\n",
      " chal\n",
      " mal\n"
     ]
    },
    {
     "name": "stdout",
     "output_type": "stream",
     "text": [
      "3\n"
     ]
    }
   ],
   "source": [
    "def alternatingCharacters(s):\n",
    "    count=0\n",
    "    for i in range(len(s)-1):\n",
    "        if s[i]==s[i+1]:\n",
    "            count+=1\n",
    "    return count\n",
    "q = int(input())\n",
    "\n",
    "for q_itr in range(q):\n",
    "    s = input()\n",
    "\n",
    "result = alternatingCharacters(s)\n",
    "print(result)\n"
   ]
  },
  {
   "cell_type": "code",
   "execution_count": null,
   "metadata": {},
   "outputs": [],
   "source": []
  }
 ],
 "metadata": {
  "kernelspec": {
   "display_name": "Python 3",
   "language": "python",
   "name": "python3"
  },
  "language_info": {
   "codemirror_mode": {
    "name": "ipython",
    "version": 3
   },
   "file_extension": ".py",
   "mimetype": "text/x-python",
   "name": "python",
   "nbconvert_exporter": "python",
   "pygments_lexer": "ipython3",
   "version": "3.8.3"
  }
 },
 "nbformat": 4,
 "nbformat_minor": 4
}
